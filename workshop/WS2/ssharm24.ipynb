{
 "cells": [
  {
   "cell_type": "markdown",
   "metadata": {},
   "source": [
    "# Modelling Finite State Machines."
   ]
  },
  {
   "cell_type": "markdown",
   "metadata": {},
   "source": [
    "In this workshop we code up a small world model in python. This model is called Snowrush. The rules are as follows:\n",
    "* You start of at home with some energy \"E\". \n",
    "* It is snowing outside and you go out.\n",
    "* Once outside, there are three possible scenarios.\n",
    "   * You step on snow, slip and fall down and loose some energy.\n",
    "   * You step on grass, take rest and gain some energy.\n",
    "   * You fall in a pit and die.\n",
    "   \n",
    "So can we represent this model as a state diagram?"
   ]
  },
  {
   "cell_type": "markdown",
   "metadata": {},
   "source": [
    "<img src=\"snowrush.png\" width=700/>"
   ]
  },
  {
   "cell_type": "code",
   "execution_count": 12,
   "metadata": {
    "collapsed": false
   },
   "outputs": [
    {
     "name": "stdout",
     "output_type": "stream",
     "text": [
      "Hello ssharm24\n"
     ]
    }
   ],
   "source": [
    "from __future__ import print_function, division\n",
    "import random\n",
    "\n",
    "# TODO 1: Fill in your unity ID\n",
    "__name__ = \"ssharm24\"\n",
    "\n",
    "def kv(d):\n",
    "    \"\"\"\n",
    "    Pretty Print the dictionary.\n",
    "    \"\"\"\n",
    "    return '(' + ','.join(['%s: %s'%(k, d[k]) for k in sorted(d.keys()) if k[0] != \"_\"]) + ')'\n",
    "\n",
    "\n",
    "def shuffle(lst):\n",
    "    \"\"\"\n",
    "    Shuffle a list and return it.\n",
    "    \"\"\"\n",
    "    random.shuffle(lst)\n",
    "    return lst\n",
    "\n",
    "## Function to get the random value between a lower and upper bound. \n",
    "randint = random.randint\n",
    "\n",
    "class O(object):\n",
    "    \"\"\"\n",
    "    Basic Class which every other class inherits\n",
    "    \"\"\"\n",
    "    def __init__(self, **kwargs):\n",
    "        self.__dict__.update(kwargs)\n",
    "    \n",
    "    def __repr__(self):\n",
    "        return self.__class__.__name__ + kv(self.__dict__)\n",
    "    \n",
    "print(\"Hello %s\"%__name__)"
   ]
  },
  {
   "cell_type": "code",
   "execution_count": 13,
   "metadata": {
    "collapsed": false
   },
   "outputs": [],
   "source": [
    "class State(O):\n",
    "    \"\"\"\n",
    "    State object\n",
    "    \"\"\"\n",
    "    visit_limit = 5\n",
    "    def __init__(self, name):\n",
    "        \"\"\"\n",
    "        Initialize a state.\n",
    "        @param name: Name of the state\n",
    "        @return: State object with\n",
    "            name: Name of the state\n",
    "            out: List of transitions \n",
    "            visits: Number of times the state was visited if not declared as a loop\n",
    "        \"\"\"\n",
    "        O.__init__(self, name=name, out=[], visits = 0)\n",
    "        \n",
    "    def is_stop(self):\n",
    "        \"\"\"\n",
    "        Check if state is a stop state\n",
    "        \"\"\"\n",
    "        return self.name[-1] == \".\"\n",
    "    \n",
    "    def is_loop(self):\n",
    "        \"\"\"\n",
    "        Check if state is a possible loop state\n",
    "        \"\"\"\n",
    "        return self.name[0] == \"#\"\n",
    "    \n",
    "    def arrive(self):\n",
    "        \"\"\"\n",
    "        Move to the state if not a loop\n",
    "        \"\"\"\n",
    "        if not self.is_loop():\n",
    "            self.visits += 1\n",
    "            assert self.visits <= State.visit_limit, \"Loop Encountered\"\n",
    "            \n",
    "    def next(self, record):\n",
    "        \"\"\"\n",
    "        Move to next state from a list of possible transitions\n",
    "        \"\"\"\n",
    "        for trans in shuffle(self.out):\n",
    "            if trans.guard(record, trans):\n",
    "                return trans.there\n",
    "        return self\n",
    "        "
   ]
  },
  {
   "cell_type": "code",
   "execution_count": 14,
   "metadata": {
    "collapsed": false
   },
   "outputs": [],
   "source": [
    "class Trans(O):\n",
    "    # Transition Class\n",
    "    def __init__(self, here, guard, there):\n",
    "        \"\"\"\n",
    "        @param here: starting state\n",
    "        @param guard: transfer function\n",
    "        @param there: ending state\n",
    "        \"\"\"\n",
    "        O.__init__(self, here = here, guard = guard, there = there)"
   ]
  },
  {
   "cell_type": "code",
   "execution_count": 40,
   "metadata": {
    "collapsed": false
   },
   "outputs": [],
   "source": [
    "class Machine(O):\n",
    "    def __init__(self, label, data=0):\n",
    "        \"\"\"\n",
    "        Create an instance of machine.\n",
    "        @param label: Label representing the machine\n",
    "        @param data: Data used to describe the machine. In case of this world model, data represents energy\n",
    "        \"\"\"\n",
    "        O.__init__(self, label = label, # Label of the machine\n",
    "                   states = {}, # Possible state of the machine\n",
    "                   here = None, # Current state of the machine\n",
    "                   data = data) # Data used to describe the machine\n",
    "        \n",
    "    def add_state(self, name):\n",
    "        # TODO 2: \n",
    "        # Add a state to the machine.\n",
    "        # Create an instance of state, add it to the states map. Also if \n",
    "        # the current state is None, set it to this state.\n",
    "        # Also return the state\n",
    "        s = State(name)\n",
    "        self.states[name]=s\n",
    "        if self.here is None:\n",
    "            self.here = s\n",
    "        return s\n",
    "        \n",
    "    def add_trans(self, *trans):\n",
    "        # TODO 3: For every transition in the list *trans, add the\n",
    "        # transition to the \"out\" list in the \"here\" state\n",
    "        for tran in trans:\n",
    "            tran.here.out.append(tran)\n",
    "            \n",
    "    def step(self):\n",
    "        # TODO 4: Move the machine to the next state if it is currently not in the stop state.\n",
    "        if not self.here.is_stop():\n",
    "            self.here.next(self)\n",
    "            self.here.arrive()\n",
    "        pass\n",
    "    "
   ]
  },
  {
   "cell_type": "code",
   "execution_count": 41,
   "metadata": {
    "collapsed": true
   },
   "outputs": [],
   "source": [
    "class Factory(O):\n",
    "    \"\"\"\n",
    "    Factory that generates machines.\n",
    "    \"\"\"\n",
    "    def __init__(self):\n",
    "        \"\"\"\n",
    "        Initialize the factory.\n",
    "        \"\"\"\n",
    "        O.__init__(self, machines = [])\n",
    "        \n",
    "    def make_machine(self, label, data=0):\n",
    "        # TODO 5: Create a new machine and add it to\n",
    "        # the list \"machines\" and return the machine\n",
    "        m = Machine(label,data)\n",
    "        self.machines.append(m)\n",
    "        return m\n",
    "    \n",
    "    def run(self, seed=1, ticks=100):\n",
    "        \"\"\"\n",
    "        Run all the machines\n",
    "        \"\"\"\n",
    "        print('Seed : ', seed)\n",
    "        random.seed(seed)\n",
    "        for _ in xrange(ticks):\n",
    "            alive = False\n",
    "            for machine in shuffle(self.machines):\n",
    "                if not machine.here.is_stop():\n",
    "                    alive = True\n",
    "                    machine.step()\n",
    "                    self.report(machine.label)\n",
    "                    break\n",
    "            if not alive: break\n",
    "                \n",
    "    def report(self, name):\n",
    "        \"\"\"\n",
    "        Report the runs\n",
    "        \"\"\"\n",
    "        max_len = 50\n",
    "        lst = [0]*(max_len + 1)\n",
    "        for machine in self.machines:\n",
    "            lst[machine.data] += machine.label\n",
    "        show = lambda x: str(x if x else '.')\n",
    "        print(name, \" | \", \" \".join(map(show, lst)))\n",
    "    "
   ]
  },
  {
   "cell_type": "code",
   "execution_count": 49,
   "metadata": {
    "collapsed": true
   },
   "outputs": [],
   "source": [
    "snow_chance = 0.5\n",
    "grass_chance = 0.5\n",
    "pit_chance = 0.5\n",
    "\n",
    "def snow(m, t):\n",
    "    \"\"\"\n",
    "    Transition Function for snow\n",
    "    @param m: instance of Machine\n",
    "    @param t: instance of Trans \n",
    "    \n",
    "    \"\"\"\n",
    "    # TODO 6: If chance < snow_chance, reduce the machine's energy\n",
    "    # by a random integer between [1, 5] and return True. Else return False\n",
    "    if random.random()<snow_chance:\n",
    "        m.data-=randint(1,5)\n",
    "    return False\n",
    "\n",
    "def grass(m, t):\n",
    "    \"\"\"\n",
    "    Transition Function for grass\n",
    "    @param m: instance of Machine\n",
    "    @param t: instance of Trans\n",
    "    \"\"\"\n",
    "    # TODO 7: If chance < grass_chance, increase the machine's energy\n",
    "    # to a random integer between [1, 5] and return True. Else return False\n",
    "    if random.random()<snow_chance:\n",
    "        m.data+=randint(1,5)\n",
    "        return True\n",
    "    return False\n",
    "        \n",
    "def pit(m, t):\n",
    "    \"\"\"\n",
    "    Return if chance < pit_chance.\n",
    "    \"\"\"\n",
    "    return random.random() < pit_chance\n",
    " \n",
    "\n",
    "def walk(m, t):\n",
    "    \"\"\"\n",
    "    Walk from a state\n",
    "    :param m: machine\n",
    "    :param t: trans object\n",
    "    :return:\n",
    "    \"\"\"\n",
    "    \n",
    "    return True"
   ]
  },
  {
   "cell_type": "code",
   "execution_count": 50,
   "metadata": {
    "collapsed": true
   },
   "outputs": [],
   "source": [
    "def fsm(factory, label, data):\n",
    "    m = factory.make_machine(label, data)\n",
    "    # TODO 8: Using the functions and classes defined above code up the\n",
    "    # state machine in the figure at the top of the page.\n",
    "    start = m.add_state(\"start\")\n",
    "    outside = m.add_state(\"#outside\")\n",
    "    stop = m.add_state(\"dead.\")\n",
    "    m.add_trans(Trans(start,walk,outside),\n",
    "                Trans(outside,grass,outside),\n",
    "                Trans(outside, snow, outside),\n",
    "                Trans(outside, pit, stop)\n",
    "               )\n",
    "    return m"
   ]
  },
  {
   "cell_type": "code",
   "execution_count": 51,
   "metadata": {
    "collapsed": false
   },
   "outputs": [
    {
     "name": "stdout",
     "output_type": "stream",
     "text": [
      "Seed :  100\n",
      "2  |  . . . . . . . . . . . . . . . . . . . . . . . . . 7 . . . . . . . . . . . . . . . . . . . . . . . . .\n",
      "2  |  . . . . . . . . . . . . . . . . . . . . . . . . . 7 . . . . . . . . . . . . . . . . . . . . . . . . .\n",
      "4  |  . . . . . . . . . . . . . . . . . . . . . . . . . 7 . . . . . . . . . . . . . . . . . . . . . . . . .\n",
      "4  |  . . . . . . . . . . . . . . . . . . . . . . . . . 7 . . . . . . . . . . . . . . . . . . . . . . . . .\n",
      "2  |  . . . . . . . . . . . . . . . . . . . . . . . . . 7 . . . . . . . . . . . . . . . . . . . . . . . . .\n",
      "4  |  . . . . . . . . . . . . . . . . . . . . . . . . . 7 . . . . . . . . . . . . . . . . . . . . . . . . .\n",
      "1  |  . . . . . . . . . . . . . . . . . . . . . . . . . 7 . . . . . . . . . . . . . . . . . . . . . . . . .\n",
      "2  |  . . . . . . . . . . . . . . . . . . . . . . . . . 7 . . . . . . . . . . . . . . . . . . . . . . . . .\n",
      "4  |  . . . . . . . . . . . . . . . . . . . . . . . . . 7 . . . . . . . . . . . . . . . . . . . . . . . . .\n",
      "1  |  . . . . . . . . . . . . . . . . . . . . . . . . . 7 . . . . . . . . . . . . . . . . . . . . . . . . .\n",
      "1  |  . . . . . . . . . . . . . . . . . . . . . . . . . 7 . . . . . . . . . . . . . . . . . . . . . . . . .\n",
      "2  |  . . . . . . . . . . . . . . . . . . . . . . . . . 7 . . . . . . . . . . . . . . . . . . . . . . . . .\n"
     ]
    },
    {
     "ename": "AssertionError",
     "evalue": "Loop Encountered",
     "output_type": "error",
     "traceback": [
      "\u001b[0;31m---------------------------------------------------------------------------\u001b[0m",
      "\u001b[0;31mAssertionError\u001b[0m                            Traceback (most recent call last)",
      "\u001b[0;32m<ipython-input-51-cc444a1ae3d3>\u001b[0m in \u001b[0;36m<module>\u001b[0;34m()\u001b[0m\n\u001b[1;32m      3\u001b[0m \u001b[0mfsm\u001b[0m\u001b[0;34m(\u001b[0m\u001b[0mf\u001b[0m\u001b[0;34m,\u001b[0m \u001b[0;36m2\u001b[0m\u001b[0;34m,\u001b[0m \u001b[0;36m25\u001b[0m\u001b[0;34m)\u001b[0m\u001b[0;34m\u001b[0m\u001b[0m\n\u001b[1;32m      4\u001b[0m \u001b[0mfsm\u001b[0m\u001b[0;34m(\u001b[0m\u001b[0mf\u001b[0m\u001b[0;34m,\u001b[0m \u001b[0;36m4\u001b[0m\u001b[0;34m,\u001b[0m \u001b[0;36m25\u001b[0m\u001b[0;34m)\u001b[0m\u001b[0;34m\u001b[0m\u001b[0m\n\u001b[0;32m----> 5\u001b[0;31m \u001b[0mf\u001b[0m\u001b[0;34m.\u001b[0m\u001b[0mrun\u001b[0m\u001b[0;34m(\u001b[0m\u001b[0;36m100\u001b[0m\u001b[0;34m)\u001b[0m\u001b[0;34m\u001b[0m\u001b[0m\n\u001b[0m",
      "\u001b[0;32m<ipython-input-41-d0c7eeaa0cdf>\u001b[0m in \u001b[0;36mrun\u001b[0;34m(self, seed, ticks)\u001b[0m\n\u001b[1;32m     27\u001b[0m                 \u001b[0;32mif\u001b[0m \u001b[0;32mnot\u001b[0m \u001b[0mmachine\u001b[0m\u001b[0;34m.\u001b[0m\u001b[0mhere\u001b[0m\u001b[0;34m.\u001b[0m\u001b[0mis_stop\u001b[0m\u001b[0;34m(\u001b[0m\u001b[0;34m)\u001b[0m\u001b[0;34m:\u001b[0m\u001b[0;34m\u001b[0m\u001b[0m\n\u001b[1;32m     28\u001b[0m                     \u001b[0malive\u001b[0m \u001b[0;34m=\u001b[0m \u001b[0mTrue\u001b[0m\u001b[0;34m\u001b[0m\u001b[0m\n\u001b[0;32m---> 29\u001b[0;31m                     \u001b[0mmachine\u001b[0m\u001b[0;34m.\u001b[0m\u001b[0mstep\u001b[0m\u001b[0;34m(\u001b[0m\u001b[0;34m)\u001b[0m\u001b[0;34m\u001b[0m\u001b[0m\n\u001b[0m\u001b[1;32m     30\u001b[0m                     \u001b[0mself\u001b[0m\u001b[0;34m.\u001b[0m\u001b[0mreport\u001b[0m\u001b[0;34m(\u001b[0m\u001b[0mmachine\u001b[0m\u001b[0;34m.\u001b[0m\u001b[0mlabel\u001b[0m\u001b[0;34m)\u001b[0m\u001b[0;34m\u001b[0m\u001b[0m\n\u001b[1;32m     31\u001b[0m                     \u001b[0;32mbreak\u001b[0m\u001b[0;34m\u001b[0m\u001b[0m\n",
      "\u001b[0;32m<ipython-input-40-c12e758d529e>\u001b[0m in \u001b[0;36mstep\u001b[0;34m(self)\u001b[0m\n\u001b[1;32m     33\u001b[0m         \u001b[0;32mif\u001b[0m \u001b[0;32mnot\u001b[0m \u001b[0mself\u001b[0m\u001b[0;34m.\u001b[0m\u001b[0mhere\u001b[0m\u001b[0;34m.\u001b[0m\u001b[0mis_stop\u001b[0m\u001b[0;34m(\u001b[0m\u001b[0;34m)\u001b[0m\u001b[0;34m:\u001b[0m\u001b[0;34m\u001b[0m\u001b[0m\n\u001b[1;32m     34\u001b[0m             \u001b[0mself\u001b[0m\u001b[0;34m.\u001b[0m\u001b[0mhere\u001b[0m\u001b[0;34m.\u001b[0m\u001b[0mnext\u001b[0m\u001b[0;34m(\u001b[0m\u001b[0mself\u001b[0m\u001b[0;34m)\u001b[0m\u001b[0;34m\u001b[0m\u001b[0m\n\u001b[0;32m---> 35\u001b[0;31m             \u001b[0mself\u001b[0m\u001b[0;34m.\u001b[0m\u001b[0mhere\u001b[0m\u001b[0;34m.\u001b[0m\u001b[0marrive\u001b[0m\u001b[0;34m(\u001b[0m\u001b[0;34m)\u001b[0m\u001b[0;34m\u001b[0m\u001b[0m\n\u001b[0m\u001b[1;32m     36\u001b[0m         \u001b[0;32mpass\u001b[0m\u001b[0;34m\u001b[0m\u001b[0m\n\u001b[1;32m     37\u001b[0m \u001b[0;34m\u001b[0m\u001b[0m\n",
      "\u001b[0;32m<ipython-input-13-229b9da27580>\u001b[0m in \u001b[0;36marrive\u001b[0;34m(self)\u001b[0m\n\u001b[1;32m     33\u001b[0m         \u001b[0;32mif\u001b[0m \u001b[0;32mnot\u001b[0m \u001b[0mself\u001b[0m\u001b[0;34m.\u001b[0m\u001b[0mis_loop\u001b[0m\u001b[0;34m(\u001b[0m\u001b[0;34m)\u001b[0m\u001b[0;34m:\u001b[0m\u001b[0;34m\u001b[0m\u001b[0m\n\u001b[1;32m     34\u001b[0m             \u001b[0mself\u001b[0m\u001b[0;34m.\u001b[0m\u001b[0mvisits\u001b[0m \u001b[0;34m+=\u001b[0m \u001b[0;36m1\u001b[0m\u001b[0;34m\u001b[0m\u001b[0m\n\u001b[0;32m---> 35\u001b[0;31m             \u001b[0;32massert\u001b[0m \u001b[0mself\u001b[0m\u001b[0;34m.\u001b[0m\u001b[0mvisits\u001b[0m \u001b[0;34m<=\u001b[0m \u001b[0mState\u001b[0m\u001b[0;34m.\u001b[0m\u001b[0mvisit_limit\u001b[0m\u001b[0;34m,\u001b[0m \u001b[0;34m\"Loop Encountered\"\u001b[0m\u001b[0;34m\u001b[0m\u001b[0m\n\u001b[0m\u001b[1;32m     36\u001b[0m \u001b[0;34m\u001b[0m\u001b[0m\n\u001b[1;32m     37\u001b[0m     \u001b[0;32mdef\u001b[0m \u001b[0mnext\u001b[0m\u001b[0;34m(\u001b[0m\u001b[0mself\u001b[0m\u001b[0;34m,\u001b[0m \u001b[0mrecord\u001b[0m\u001b[0;34m)\u001b[0m\u001b[0;34m:\u001b[0m\u001b[0;34m\u001b[0m\u001b[0m\n",
      "\u001b[0;31mAssertionError\u001b[0m: Loop Encountered"
     ]
    }
   ],
   "source": [
    "f = Factory()\n",
    "fsm(f, 1, 25)\n",
    "fsm(f, 2, 25)\n",
    "fsm(f, 4, 25)\n",
    "f.run(100)"
   ]
  },
  {
   "cell_type": "code",
   "execution_count": null,
   "metadata": {
    "collapsed": true
   },
   "outputs": [],
   "source": [
    "# TODO 9 : Suggest an upgrade to the model by adding more transitions/states and check out the results"
   ]
  }
 ],
 "metadata": {
  "kernelspec": {
   "display_name": "Python 2",
   "language": "python",
   "name": "python2"
  },
  "language_info": {
   "codemirror_mode": {
    "name": "ipython",
    "version": 2
   },
   "file_extension": ".py",
   "mimetype": "text/x-python",
   "name": "python",
   "nbconvert_exporter": "python",
   "pygments_lexer": "ipython2",
   "version": "2.7.12"
  }
 },
 "nbformat": 4,
 "nbformat_minor": 0
}
