{
 "cells": [
  {
   "cell_type": "markdown",
   "metadata": {},
   "source": [
    "# Optimizing Real World Problems"
   ]
  },
  {
   "cell_type": "markdown",
   "metadata": {},
   "source": [
    "In this workshop we will code up a model called POM3 and optimize it using the GA we developed in the first workshop.\n",
    "\n",
    "POM3 is a software estimation model like XOMO for Software Engineering. It is based on Turner\n",
    "and Boehm’s model of agile development. It compares traditional plan-based approaches\n",
    "to agile-based approaches in requirements prioritization. It describes how a team decides which\n",
    "requirements to implement next. POM3 reveals requirements incrementally in random order, with\n",
    "which developers plan their work assignments. These assignments are further adjusted based on\n",
    "current cost and priority of requirement. POM3 is a realistic model which takes more runtime than\n",
    "standard mathematical models(2-100ms, not 0.006-0.3ms)"
   ]
  },
  {
   "cell_type": "code",
   "execution_count": 4,
   "metadata": {
    "collapsed": false
   },
   "outputs": [
    {
     "name": "stdout",
     "output_type": "stream",
     "text": [
      "Unity ID:  gbtimmon\n"
     ]
    }
   ],
   "source": [
    "%matplotlib inline\n",
    "# All the imports\n",
    "from __future__ import print_function, division\n",
    "from math import *\n",
    "import random\n",
    "import sys\n",
    "import matplotlib.pyplot as plt\n",
    "\n",
    "# TODO 1: Enter your unity ID here \n",
    "__author__ = \"gbtimmon\"\n",
    "\n",
    "class O:\n",
    "    \"\"\"\n",
    "    Basic Class which\n",
    "        - Helps dynamic updates\n",
    "        - Pretty Prints\n",
    "    \"\"\"\n",
    "    def __init__(self, **kwargs):\n",
    "        self.has().update(**kwargs)\n",
    "    def has(self):\n",
    "        return self.__dict__\n",
    "    def update(self, **kwargs):\n",
    "        self.has().update(kwargs)\n",
    "        return self\n",
    "    def __repr__(self):\n",
    "        show = [':%s %s' % (k, self.has()[k]) \n",
    "                for k in sorted(self.has().keys()) \n",
    "                if k[0] is not \"_\"]\n",
    "        txt = ' '.join(show)\n",
    "        if len(txt) > 60:\n",
    "            show = map(lambda x: '\\t' + x + '\\n', show)\n",
    "        return '{' + ' '.join(show) + '}'\n",
    "    \n",
    "print(\"Unity ID: \", __author__)"
   ]
  },
  {
   "cell_type": "markdown",
   "metadata": {},
   "source": [
    "### The Generic Problem Class\n",
    "\n",
    "Remember the Problem Class we coded up for GA workshop. Here we abstract it further such that it can be inherited by all the future classes. Go through these utility functions and classes before you proceed further."
   ]
  },
  {
   "cell_type": "code",
   "execution_count": 6,
   "metadata": {
    "collapsed": false
   },
   "outputs": [],
   "source": [
    "# Few Utility functions\n",
    "def say(*lst):\n",
    "    \"\"\"\n",
    "    Print whithout going to new line\n",
    "    \"\"\"\n",
    "    print(*lst, end=\"\")\n",
    "    sys.stdout.flush()\n",
    "\n",
    "def random_value(low, high, decimals=2):\n",
    "    \"\"\"\n",
    "    Generate a random number between low and high. \n",
    "    decimals incidicate number of decimal places\n",
    "    \"\"\"\n",
    "    return round(random.uniform(low, high),decimals)\n",
    "\n",
    "def gt(a, b): return a > b\n",
    "\n",
    "def lt(a, b): return a < b\n",
    "\n",
    "def shuffle(lst):\n",
    "    \"\"\"\n",
    "    Shuffle a list\n",
    "    \"\"\"\n",
    "    random.shuffle(lst)\n",
    "    return lst\n",
    "\n",
    "class Decision(O):\n",
    "    \"\"\"\n",
    "    Class indicating Decision of a problem\n",
    "    \"\"\"\n",
    "    def __init__(self, name, low, high):\n",
    "        \"\"\"\n",
    "        @param name: Name of the decision\n",
    "        @param low: minimum value\n",
    "        @param high: maximum value\n",
    "        \"\"\"\n",
    "        O.__init__(self, name=name, low=low, high=high)\n",
    "        \n",
    "class Objective(O):\n",
    "    \"\"\"\n",
    "    Class indicating Objective of a problem\n",
    "    \"\"\"\n",
    "    def __init__(self, name, do_minimize=True, low=0, high=1):\n",
    "        \"\"\"\n",
    "        @param name: Name of the objective\n",
    "        @param do_minimize: Flag indicating if objective has to be minimized or maximized\n",
    "        \"\"\"\n",
    "        O.__init__(self, name=name, do_minimize=do_minimize, low=low, high=high)\n",
    "        \n",
    "    def normalize(self, val):\n",
    "        return (val - self.low)/(self.high - self.low)\n",
    "\n",
    "class Point(O):\n",
    "    \"\"\"\n",
    "    Represents a member of the population\n",
    "    \"\"\"\n",
    "    def __init__(self, decisions):\n",
    "        O.__init__(self)\n",
    "        self.decisions = decisions\n",
    "        self.objectives = None\n",
    "        \n",
    "    def __hash__(self):\n",
    "        return hash(tuple(self.decisions))\n",
    "    \n",
    "    def __eq__(self, other):\n",
    "        return self.decisions == other.decisions\n",
    "    \n",
    "    def clone(self):\n",
    "        new = Point(self.decisions[:])\n",
    "        new.objectives = self.objectives[:]\n",
    "        return new\n",
    "\n",
    "class Problem(O):\n",
    "    \"\"\"\n",
    "    Class representing the cone problem.\n",
    "    \"\"\"\n",
    "    def __init__(self, decisions, objectives):\n",
    "        \"\"\"\n",
    "        Initialize Problem.\n",
    "        :param decisions -  Metadata for Decisions\n",
    "        :param objectives - Metadata for Objectives\n",
    "        \"\"\"\n",
    "        O.__init__(self)\n",
    "        self.decisions = decisions\n",
    "        self.objectives = objectives\n",
    "        \n",
    "    @staticmethod\n",
    "    def evaluate(point):\n",
    "        assert False\n",
    "        return point.objectives\n",
    "    \n",
    "    @staticmethod\n",
    "    def is_valid(point):\n",
    "        return True\n",
    "    \n",
    "    def generate_one(self, retries = 20):\n",
    "        for _ in xrange(retries):\n",
    "            point = Point([random_value(d.low, d.high) for d in self.decisions])\n",
    "            if self.is_valid(point):\n",
    "                return point\n",
    "        raise RuntimeError(\"Exceeded max runtimes of %d\" % 20)"
   ]
  },
  {
   "cell_type": "markdown",
   "metadata": {},
   "source": [
    "Great. Now that the class and its basic methods is defined, lets extend it for \n",
    "### POM3 model.\n",
    "\n",
    "POM3 has multiple versions but for this workshop we will code up the POM3A model. It has 9 decisions defined as follows\n",
    "\n",
    "* **Culture** in [0.1, 0.9]\n",
    "* **Criticality** in [0.82, 1.20]\n",
    "* **Criticality Modifier** in [2, 10]\n",
    "* **Initially Known** in [0.4, 0.7]\n",
    "* **Inter-Dependency** in [1, 100]\n",
    "* **Dynamism** in [1, 50]\n",
    "* **Size** in [0, 4]\n",
    "* **Plan** in [0, 5]\n",
    "* **Team Size** in [1, 44]\n",
    "\n",
    "<img src=\"pom3.png\"/>\n",
    "\n",
    "The model has 4 objectives\n",
    "* **Cost** in [0,10000] - Minimize\n",
    "* **Score** in [0,1] - Maximize\n",
    "* **Completion** in [0,1] - Maximize\n",
    "* **Idle** in [0,1] - Minimize"
   ]
  },
  {
   "cell_type": "code",
   "execution_count": 8,
   "metadata": {
    "collapsed": false
   },
   "outputs": [
    {
     "name": "stdout",
     "output_type": "stream",
     "text": [
      "[210.23548566553748, 0.6136785768163249, 0.5679012345679012, 0.0]\n"
     ]
    }
   ],
   "source": [
    "class POM3(Problem):\n",
    "    from pom3.pom3 import pom3 as  pom3_helper\n",
    "    helper = pom3_helper()\n",
    "    def __init__(self):\n",
    "        \"\"\"\n",
    "        Initialize the POM3 classes\n",
    "        \"\"\"\n",
    "        names = [\"Culture\", \"Criticality\", \"Criticality Modifier\", \"Initial Known\", \n",
    "                 \"Inter-Dependency\", \"Dynamism\", \"Size\", \"Plan\", \"Team Size\"]\n",
    "        lows = [0.1, 0.82, 2, 0.40, 1, 1, 0, 0, 1]\n",
    "        highs = [0.9, 1.20, 10, 0.70, 100, 50, 4, 5, 44]\n",
    "       \n",
    "          \n",
    "        decisions  = [ Decision(x,y,z) for x,y,z in zip( names, lows, highs) ]\n",
    "        objectives = [\n",
    "            Objective( \"Cost\",       do_minimize=True,  low=0, high=1000 ),\n",
    "            Objective( \"Score\",      do_minimize=False, low=0, high=1    ),     \n",
    "            Objective( \"Completion\", do_minimize=False, low=0, high=1    ),   \n",
    "            Objective( \"Idle\",       do_minimize=True,  low=0, high=1    )\n",
    "                     ]\n",
    "        Problem.__init__(self, decisions, objectives)\n",
    "        \n",
    "    @staticmethod\n",
    "    def evaluate(point):\n",
    "        if not point.objectives:\n",
    "            point.objectives = POM3.helper.simulate(point.decisions)\n",
    "        return point.objectives\n",
    "    \n",
    "pom3 = POM3()\n",
    "one = pom3.generate_one()\n",
    "print(POM3.evaluate(one))"
   ]
  },
  {
   "cell_type": "markdown",
   "metadata": {},
   "source": [
    "### Utility functions for genetic algorithms."
   ]
  },
  {
   "cell_type": "code",
   "execution_count": 9,
   "metadata": {
    "collapsed": false
   },
   "outputs": [],
   "source": [
    "def populate(problem, size):\n",
    "    \"\"\"\n",
    "    Create a Point list of length size\n",
    "    \"\"\"\n",
    "    population = []\n",
    "    for _ in range(size):\n",
    "        population.append(problem.generate_one())\n",
    "    return population\n",
    "\n",
    "def crossover(mom, dad):\n",
    "    \"\"\"\n",
    "    Create a new point which contains decisions from \n",
    "    the first half of mom and second half of dad\n",
    "    \"\"\"\n",
    "    n = len(mom.decisions)\n",
    "    return Point(mom.decisions[:n//2] + dad.decisions[n//2:])\n",
    "\n",
    "def mutate(problem, point, mutation_rate=0.01):\n",
    "    \"\"\"\n",
    "    Iterate through all the decisions in the point\n",
    "    and if the probability is less than mutation rate\n",
    "    change the decision(randomly set it between its max and min).\n",
    "    \"\"\"\n",
    "    for i, decision in enumerate(problem.decisions):\n",
    "        if random.random() < mutation_rate:\n",
    "            point.decisions[i] = random_value(decision.low, decision.high)\n",
    "    return point\n",
    "\n",
    "def bdom(problem, one, two):\n",
    "    \"\"\"\n",
    "    Return if one dominates two based\n",
    "    on binary domintation\n",
    "    \"\"\"\n",
    "    objs_one = problem.evaluate(one)\n",
    "    objs_two = problem.evaluate(two)\n",
    "    dominates = False\n",
    "    for i, obj in enumerate(problem.objectives):\n",
    "        better = lt if obj.do_minimize else gt\n",
    "        if better(objs_one[i], objs_two[i]):\n",
    "            dominates = True\n",
    "        elif objs_one[i] != objs_two[i]:\n",
    "            return False\n",
    "    return dominates\n",
    "\n",
    "def fitness(problem, population, point, dom_func):\n",
    "    \"\"\"\n",
    "    Evaluate fitness of a point based on the definition in the previous block.\n",
    "    For example point dominates 5 members of population,\n",
    "    then fitness of point is 5.\n",
    "    \"\"\"\n",
    "    return len([1 for another in population if dom_func(problem, point, another)])\n",
    "\n",
    "def elitism(problem, population, retain_size, dom_func):\n",
    "    \"\"\"\n",
    "    Sort the population with respect to the fitness\n",
    "    of the points and return the top 'retain_size' points of the population\n",
    "    \"\"\"\n",
    "    fitnesses = []\n",
    "    for point in population:\n",
    "        fitnesses.append((fitness(problem, population, point, dom_func), point))\n",
    "    population = [tup[1] for tup in sorted(fitnesses, reverse=True)]\n",
    "    return population[:retain_size]\n",
    "    "
   ]
  },
  {
   "cell_type": "markdown",
   "metadata": {},
   "source": [
    "### Putting it all together and making the GA"
   ]
  },
  {
   "cell_type": "code",
   "execution_count": 10,
   "metadata": {
    "collapsed": false
   },
   "outputs": [],
   "source": [
    "def ga(pop_size = 100, gens = 250, dom_func=bdom):\n",
    "    problem = POM3()\n",
    "    population = populate(problem, pop_size)\n",
    "    [problem.evaluate(point) for point in population]\n",
    "    initial_population = [point.clone() for point in population]\n",
    "    gen = 0 \n",
    "    while gen < gens:\n",
    "        say(\".\")\n",
    "        children = []\n",
    "        for _ in range(pop_size):\n",
    "            mom = random.choice(population)\n",
    "            dad = random.choice(population)\n",
    "            while (mom == dad):\n",
    "                dad = random.choice(population)\n",
    "            child = mutate(problem, crossover(mom, dad))\n",
    "            if problem.is_valid(child) and child not in population+children:\n",
    "                children.append(child)\n",
    "        population += children\n",
    "        population = elitism(problem, population, pop_size, dom_func)\n",
    "        gen += 1\n",
    "    print(\"\")\n",
    "    return initial_population, population"
   ]
  },
  {
   "cell_type": "markdown",
   "metadata": {},
   "source": [
    "### Visualize\n",
    "Lets plot the initial population with respect to the final frontier."
   ]
  },
  {
   "cell_type": "code",
   "execution_count": 11,
   "metadata": {
    "collapsed": true
   },
   "outputs": [],
   "source": [
    "def plot_pareto(initial, final):\n",
    "    initial_objs = [point.objectives for point in initial]\n",
    "    final_objs = [point.objectives for point in final]\n",
    "    initial_x = [i[1] for i in initial_objs]\n",
    "    initial_y = [i[2] for i in initial_objs]\n",
    "    final_x = [i[1] for i in final_objs]\n",
    "    final_y = [i[2] for i in final_objs]\n",
    "    plt.scatter(initial_x, initial_y, color='b', marker='+', label='initial')\n",
    "    plt.scatter(final_x, final_y, color='r', marker='o', label='final')\n",
    "    plt.title(\"Scatter Plot between initial and final population of GA\")\n",
    "    plt.ylabel(\"Score\")\n",
    "    plt.xlabel(\"Completion\")\n",
    "    plt.legend(loc=9, bbox_to_anchor=(0.5, -0.175), ncol=2)\n",
    "    plt.show()\n",
    "    "
   ]
  },
  {
   "cell_type": "code",
   "execution_count": 12,
   "metadata": {
    "collapsed": false
   },
   "outputs": [
    {
     "name": "stdout",
     "output_type": "stream",
     "text": [
      "..................................................\n"
     ]
    },
    {
     "data": {
      "image/png": "[encoded data removed]",
      "text/plain": [
       "<matplotlib.figure.Figure at 0x7386fd0>"
      ]
     },
     "metadata": {},
     "output_type": "display_data"
    }
   ],
   "source": [
    "initial, final = ga(gens=50)\n",
    "plot_pareto(initial, final)"
   ]
  },
  {
   "cell_type": "markdown",
   "metadata": {
    "collapsed": true
   },
   "source": [
    "### Sample Output\n",
    "<img src=\"sample.png\"/>"
   ]
  },
  {
   "cell_type": "code",
   "execution_count": null,
   "metadata": {
    "collapsed": true
   },
   "outputs": [],
   "source": []
  }
 ],
 "metadata": {
  "kernelspec": {
   "display_name": "Python 2",
   "language": "python",
   "name": "python2"
  },
  "language_info": {
   "codemirror_mode": {
    "name": "ipython",
    "version": 2
   },
   "file_extension": ".py",
   "mimetype": "text/x-python",
   "name": "python",
   "nbconvert_exporter": "python",
   "pygments_lexer": "ipython2",
   "version": "2.7.12"
  }
 },
 "nbformat": 4,
 "nbformat_minor": 0
}
